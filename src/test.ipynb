{
 "cells": [
  {
   "cell_type": "code",
   "execution_count": 16,
   "metadata": {},
   "outputs": [
    {
     "name": "stdout",
     "output_type": "stream",
     "text": [
      "Status Code: 403\n",
      "Failed to fetch data. Status code: 403\n",
      "Error message: {\"message\":\"User: anonymous is not authorized to perform: execute-api:Invoke on resource: arn:aws:execute-api:us-east-1:********9828:7h9fkp906h/dev/GET/data\"}\n"
     ]
    }
   ],
   "source": [
    "import requests\n",
    "\n",
    "# Define your API URL\n",
    "api_url = \"https://7h9fkp906h.execute-api.us-east-1.amazonaws.com/dev/data\"  # Replace with your API URL\n",
    "\n",
    "# Fetch data from the API\n",
    "response = requests.get(api_url)\n",
    "\n",
    "# Print status code to help debug\n",
    "print(f\"Status Code: {response.status_code}\")\n",
    "\n",
    "# Check if the response is successful\n",
    "if response.status_code == 200:\n",
    "    try:\n",
    "        data = response.json()\n",
    "        print(\"Data fetched successfully!\")\n",
    "\n",
    "        # Display data as a table (assuming the response is a list of dictionaries)\n",
    "        if isinstance(data, list):\n",
    "            print(f\"{'ID':<5} {'First Name':<15} {'Last Name':<15} {'Email':<25} {'Phone':<15}\")\n",
    "            print(\"-\" * 70)\n",
    "            for user in data:\n",
    "                print(f\"{user['id']:<5} {user['first_name']:<15} {user['last_name']:<15} {user['email']:<25} {user['phone']:<15}\")\n",
    "        else:\n",
    "            print(\"The data fetched is not in expected list format.\")\n",
    "\n",
    "    except Exception as e:\n",
    "        print(f\"Failed to decode JSON: {e}\")\n",
    "else:\n",
    "    print(f\"Failed to fetch data. Status code: {response.status_code}\")\n",
    "    print(f\"Error message: {response.text}\")\n"
   ]
  },
  {
   "cell_type": "code",
   "execution_count": null,
   "metadata": {},
   "outputs": [
    {
     "name": "stdout",
     "output_type": "stream",
     "text": [
      "Status Code: 403\n",
      "Failed to fetch data. Status code: 403\n",
      "Error message: {\"message\":\"Missing Authentication Token\"}\n"
     ]
    }
   ],
   "source": [
    "import requests\n",
    "\n",
    "# Define your API URL (ensure it's correct)\n",
    "api_url = \"https://7h9fkp906h.execute-api.us-east-1.amazonaws.com/dev/rds-connector-function\"\n",
    "\n",
    "# Fetch data from the API\n",
    "response = requests.get(api_url)\n",
    "\n",
    "# Print status code to help debug\n",
    "print(f\"Status Code: {response.status_code}\")\n",
    "\n",
    "# Check if the response is successful\n",
    "if response.status_code == 200:\n",
    "    try:\n",
    "        data = response.json()\n",
    "        print(\"Data fetched successfully!\")\n",
    "        print(data)  # Print the fetched data\n",
    "    except Exception as e:\n",
    "        print(f\"Failed to decode JSON: {e}\")\n",
    "else:\n",
    "    print(f\"Failed to fetch data. Status code: {response.status_code}\")\n",
    "    print(f\"Error message: {response.text}\")\n",
    "\n",
    "\n"
   ]
  }
 ],
 "metadata": {
  "kernelspec": {
   "display_name": "Python 3",
   "language": "python",
   "name": "python3"
  },
  "language_info": {
   "codemirror_mode": {
    "name": "ipython",
    "version": 3
   },
   "file_extension": ".py",
   "mimetype": "text/x-python",
   "name": "python",
   "nbconvert_exporter": "python",
   "pygments_lexer": "ipython3",
   "version": "3.12.2"
  }
 },
 "nbformat": 4,
 "nbformat_minor": 2
}
