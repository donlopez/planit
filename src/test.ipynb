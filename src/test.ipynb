{
 "cells": [
  {
   "cell_type": "code",
   "execution_count": null,
   "metadata": {},
   "outputs": [
    {
     "name": "stdout",
     "output_type": "stream",
     "text": [
      "Status Code: 502\n",
      "Failed to fetch data. Status code: 502\n",
      "Error message: {\"message\": \"Internal server error\"}\n"
     ]
    }
   ],
   "source": [
    "import requests\n",
    "\n",
    "# Define your API URL (ensure it's correct)\n",
    "api_url = \"https://7h9fkp906h.execute-api.us-east-1.amazonaws.com/dev/rds-connector-function\"\n",
    "\n",
    "# Fetch data from the API\n",
    "response = requests.get(api_url)\n",
    "\n",
    "# Print status code to help debug\n",
    "print(f\"Status Code: {response.status_code}\")\n",
    "\n",
    "# Check if the response is successful\n",
    "if response.status_code == 200:\n",
    "    try:\n",
    "        data = response.json()\n",
    "        print(\"Data fetched successfully!\")\n",
    "        print(data)  # Print the fetched data\n",
    "    except Exception as e:\n",
    "        print(f\"Failed to decode JSON: {e}\")\n",
    "else:\n",
    "    print(f\"Failed to fetch data. Status code: {response.status_code}\")\n",
    "    print(f\"Error message: {response.text}\")\n",
    "\n",
    "\n"
   ]
  }
 ],
 "metadata": {
  "kernelspec": {
   "display_name": "Python 3",
   "language": "python",
   "name": "python3"
  },
  "language_info": {
   "codemirror_mode": {
    "name": "ipython",
    "version": 3
   },
   "file_extension": ".py",
   "mimetype": "text/x-python",
   "name": "python",
   "nbconvert_exporter": "python",
   "pygments_lexer": "ipython3",
   "version": "3.12.2"
  }
 },
 "nbformat": 4,
 "nbformat_minor": 2
}
