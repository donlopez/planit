{
 "cells": [
  {
   "cell_type": "code",
   "execution_count": 3,
   "metadata": {},
   "outputs": [
    {
     "name": "stdout",
     "output_type": "stream",
     "text": [
      "Status Code: 200\n",
      "Failed to decode JSON: Expecting value: line 1 column 1 (char 0)\n"
     ]
    }
   ],
   "source": [
    "import requests\n",
    "\n",
    "# Define your API URL (ensure it's correct)\n",
    "api_url = \"https://7h9fkp906h.execute-api.us-east-1.amazonaws.com/dev/rds-connector-function\"\n",
    "\n",
    "# Fetch data from the API\n",
    "response = requests.get(api_url)\n",
    "\n",
    "# Print status code to help debug\n",
    "print(f\"Status Code: {response.status_code}\")\n",
    "\n",
    "# Check if the response is successful\n",
    "if response.status_code == 200:\n",
    "    try:\n",
    "        data = response.json()\n",
    "        print(\"Data fetched successfully!\")\n",
    "        print(data)  # Print the fetched data\n",
    "    except Exception as e:\n",
    "        print(f\"Failed to decode JSON: {e}\")\n",
    "else:\n",
    "    print(f\"Failed to fetch data. Status code: {response.status_code}\")\n",
    "    print(f\"Error message: {response.text}\")\n",
    "\n",
    "\n"
   ]
  },
  {
   "cell_type": "code",
   "execution_count": 4,
   "metadata": {},
   "outputs": [
    {
     "name": "stdout",
     "output_type": "stream",
     "text": [
      "Failed to fetch data. Status code: 502\n",
      "{\"message\": \"Internal server error\"}\n"
     ]
    }
   ],
   "source": [
    "import requests\n",
    "import pandas as pd\n",
    "\n",
    "# Step 1: Define the API endpoint and parameters\n",
    "api_url = \"https://7h9fkp906h.execute-api.us-east-1.amazonaws.com/dev/rds-connector-function\"\n",
    "params = {\"userId\": 1}\n",
    "\n",
    "# Step 2: Fetch data from the API\n",
    "response = requests.get(api_url, params=params)\n",
    "\n",
    "# Step 3: Check the response and load data\n",
    "if response.status_code == 200:\n",
    "    print(\"API call successful!\")\n",
    "    data = response.json()\n",
    "\n",
    "    # Step 4: Convert the data to a DataFrame\n",
    "    if \"data\" in data:\n",
    "        table_data = data[\"data\"]\n",
    "        df = pd.DataFrame([table_data])  # Use [table_data] to create a single-row DataFrame\n",
    "        display(df)\n",
    "    else:\n",
    "        print(\"No table data found in the API response.\")\n",
    "else:\n",
    "    print(f\"Failed to fetch data. Status code: {response.status_code}\")\n",
    "    print(response.text)\n"
   ]
  },
  {
   "cell_type": "code",
   "execution_count": 5,
   "metadata": {},
   "outputs": [
    {
     "name": "stdout",
     "output_type": "stream",
     "text": [
      "{'message': 'User profile retrieved successfully', 'data': {'id': 1, 'first_name': 'Julious', 'last_name': 'Sanchez', 'dob': '1997-02-10T00:00:00.000Z', 'username': 'julio', 'password': '$2b$10$bv9eovUisIjEdNdcUFWgjO2aybM3sMb.Q4SfObDRSZUUSQi7X/8hG', 'email': 'LopezMelocoton@gmail.com', 'phone': '407-555-5555'}}\n"
     ]
    }
   ],
   "source": [
    "import requests\n",
    "api_url = \"https://7h9fkp906h.execute-api.us-east-1.amazonaws.com/dev/rds-connector-function\"\n",
    "params = {\"userId\": 1}\n",
    "response = requests.get(api_url, params=params)\n",
    "print(response.json())\n"
   ]
  }
 ],
 "metadata": {
  "kernelspec": {
   "display_name": "Python 3",
   "language": "python",
   "name": "python3"
  },
  "language_info": {
   "codemirror_mode": {
    "name": "ipython",
    "version": 3
   },
   "file_extension": ".py",
   "mimetype": "text/x-python",
   "name": "python",
   "nbconvert_exporter": "python",
   "pygments_lexer": "ipython3",
   "version": "3.12.2"
  }
 },
 "nbformat": 4,
 "nbformat_minor": 2
}
